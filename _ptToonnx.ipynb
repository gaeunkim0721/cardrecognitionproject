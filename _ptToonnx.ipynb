{
  "nbformat": 4,
  "nbformat_minor": 0,
  "metadata": {
    "colab": {
      "name": ".ptToonnx.ipynb",
      "provenance": [],
      "collapsed_sections": [],
      "mount_file_id": "1u8DqyC_K48vHIc8AI8CEHVWTuaSKdp9I",
      "authorship_tag": "ABX9TyP4U6XpBQvT3MkMKoCu4cMR",
      "include_colab_link": true
    },
    "kernelspec": {
      "name": "python3",
      "display_name": "Python 3"
    },
    "language_info": {
      "name": "python"
    }
  },
  "cells": [
    {
      "cell_type": "markdown",
      "metadata": {
        "id": "view-in-github",
        "colab_type": "text"
      },
      "source": [
        "<a href=\"https://colab.research.google.com/github/gaeunkim0721/cardrecognitionproject/blob/main/_ptToonnx.ipynb\" target=\"_parent\"><img src=\"https://colab.research.google.com/assets/colab-badge.svg\" alt=\"Open In Colab\"/></a>"
      ]
    },
    {
      "cell_type": "markdown",
      "metadata": {
        "id": "b6TyZMjZRMr5"
      },
      "source": [
        "ONNX"
      ]
    },
    {
      "cell_type": "code",
      "metadata": {
        "colab": {
          "base_uri": "https://localhost:8080/"
        },
        "id": "arLpBHVzTk07",
        "outputId": "d22fee68-bd2c-4812-9a87-e57dea6bd46f"
      },
      "source": [
        "# clone YOLOv5 and reset to a specific git checkpoint that has been verified working\n",
        "!git clone https://github.com/ultralytics/yolov5  # clone repo\n",
        "%cd yolov5\n",
        "!git reset --hard 68211f72c99915a15855f7b99bf5d93f5631330f"
      ],
      "execution_count": null,
      "outputs": [
        {
          "output_type": "stream",
          "text": [
            "Cloning into 'yolov5'...\n",
            "remote: Enumerating objects: 5784, done.\u001b[K\n",
            "remote: Counting objects: 100% (14/14), done.\u001b[K\n",
            "remote: Compressing objects: 100% (14/14), done.\u001b[K\n",
            "remote: Total 5784 (delta 2), reused 2 (delta 0), pack-reused 5770\u001b[K\n",
            "Receiving objects: 100% (5784/5784), 8.26 MiB | 6.08 MiB/s, done.\n",
            "Resolving deltas: 100% (3946/3946), done.\n",
            "/content/yolov5\n",
            "HEAD is now at 68211f7 FROM nvcr.io/nvidia/pytorch:20.10-py3 (#1553)\n"
          ],
          "name": "stdout"
        }
      ]
    },
    {
      "cell_type": "code",
      "metadata": {
        "id": "z8CVyw2ST9qA"
      },
      "source": [
        "!cp /content/drive/MyDrive/20210420YOLOV5ID/best.pt ."
      ],
      "execution_count": null,
      "outputs": []
    },
    {
      "cell_type": "code",
      "metadata": {
        "id": "pEKHbRJyR3R9"
      },
      "source": [
        "%matplotlib inline"
      ],
      "execution_count": null,
      "outputs": []
    },
    {
      "cell_type": "code",
      "metadata": {
        "id": "HDQfK9uUcHxJ"
      },
      "source": [
        "# Some standard imports\n",
        "import io\n",
        "import numpy as np\n",
        "\n",
        "from torch import nn\n",
        "import torch.utils.model_zoo as model_zoo\n",
        "import torch.onnx"
      ],
      "execution_count": null,
      "outputs": []
    },
    {
      "cell_type": "code",
      "metadata": {
        "id": "HSRyMlMHTT6V"
      },
      "source": [
        "import torch.nn as nn\n",
        "import torch.nn.init as init\n",
        "\n",
        "\n",
        "class SuperResolutionNet(nn.Module):\n",
        "    def __init__(self, upscale_factor, inplace=False):\n",
        "        super(SuperResolutionNet, self).__init__()\n",
        "\n",
        "        self.relu = nn.ReLU(inplace=inplace)\n",
        "        self.conv1 = nn.Conv2d(1, 64, (5, 5), (1, 1), (2, 2))\n",
        "        self.conv2 = nn.Conv2d(64, 64, (3, 3), (1, 1), (1, 1))\n",
        "        self.conv3 = nn.Conv2d(64, 32, (3, 3), (1, 1), (1, 1))\n",
        "        self.conv4 = nn.Conv2d(32, upscale_factor ** 2, (3, 3), (1, 1), (1, 1))\n",
        "        self.pixel_shuffle = nn.PixelShuffle(upscale_factor)\n",
        "\n",
        "        self._initialize_weights()\n",
        "\n",
        "    def forward(self, x):\n",
        "        x = self.relu(self.conv1(x))\n",
        "        x = self.relu(self.conv2(x))\n",
        "        x = self.relu(self.conv3(x))\n",
        "        x = self.pixel_shuffle(self.conv4(x))\n",
        "        return x\n",
        "\n",
        "    def _initialize_weights(self):\n",
        "        init.orthogonal_(self.conv1.weight, init.calculate_gain('relu'))\n",
        "        init.orthogonal_(self.conv2.weight, init.calculate_gain('relu'))\n",
        "        init.orthogonal_(self.conv3.weight, init.calculate_gain('relu'))\n",
        "        init.orthogonal_(self.conv4.weight)\n",
        "\n",
        "# Create the super-resolution model by using the above model definition.\n",
        "torch_model = SuperResolutionNet(upscale_factor=3)"
      ],
      "execution_count": null,
      "outputs": []
    },
    {
      "cell_type": "code",
      "metadata": {
        "colab": {
          "base_uri": "https://localhost:8080/",
          "height": 232
        },
        "id": "N5DJRbf5cHz6",
        "outputId": "55f77bba-48c1-4e4b-e6e0-c4afcd3f2f09"
      },
      "source": [
        "# Load pretrained model weights\n",
        "model_url = '/content/drive/MyDrive/20210420YOLOV5ID/best.pt'\n",
        "batch_size = 1    # just a random number\n",
        "\n",
        "# Initialize model with the pretrained weights\n",
        "map_location = lambda storage, loc: storage\n",
        "if torch.cuda.is_available():\n",
        "    map_location = None\n",
        "torch_model.load_state_dict(model_zoo.load_url(model_url, map_location=map_location))\n",
        "\n",
        "# set the model to inference mode\n",
        "torch_model.eval()"
      ],
      "execution_count": null,
      "outputs": [
        {
          "output_type": "error",
          "ename": "NameError",
          "evalue": "ignored",
          "traceback": [
            "\u001b[0;31m---------------------------------------------------------------------------\u001b[0m",
            "\u001b[0;31mNameError\u001b[0m                                 Traceback (most recent call last)",
            "\u001b[0;32m<ipython-input-8-c5666b658b9c>\u001b[0m in \u001b[0;36m<module>\u001b[0;34m()\u001b[0m\n\u001b[1;32m      7\u001b[0m \u001b[0;32mif\u001b[0m \u001b[0mtorch\u001b[0m\u001b[0;34m.\u001b[0m\u001b[0mcuda\u001b[0m\u001b[0;34m.\u001b[0m\u001b[0mis_available\u001b[0m\u001b[0;34m(\u001b[0m\u001b[0;34m)\u001b[0m\u001b[0;34m:\u001b[0m\u001b[0;34m\u001b[0m\u001b[0;34m\u001b[0m\u001b[0m\n\u001b[1;32m      8\u001b[0m     \u001b[0mmap_location\u001b[0m \u001b[0;34m=\u001b[0m \u001b[0;32mNone\u001b[0m\u001b[0;34m\u001b[0m\u001b[0;34m\u001b[0m\u001b[0m\n\u001b[0;32m----> 9\u001b[0;31m \u001b[0mmodel\u001b[0m\u001b[0;34m.\u001b[0m\u001b[0mload_state_dict\u001b[0m\u001b[0;34m(\u001b[0m\u001b[0mmodel_zoo\u001b[0m\u001b[0;34m.\u001b[0m\u001b[0mload_url\u001b[0m\u001b[0;34m(\u001b[0m\u001b[0mmodel_url\u001b[0m\u001b[0;34m,\u001b[0m \u001b[0mmap_location\u001b[0m\u001b[0;34m=\u001b[0m\u001b[0mmap_location\u001b[0m\u001b[0;34m)\u001b[0m\u001b[0;34m)\u001b[0m\u001b[0;34m\u001b[0m\u001b[0;34m\u001b[0m\u001b[0m\n\u001b[0m\u001b[1;32m     10\u001b[0m \u001b[0;34m\u001b[0m\u001b[0m\n\u001b[1;32m     11\u001b[0m \u001b[0;31m# set the model to inference mode\u001b[0m\u001b[0;34m\u001b[0m\u001b[0;34m\u001b[0m\u001b[0;34m\u001b[0m\u001b[0m\n",
            "\u001b[0;31mNameError\u001b[0m: name 'model' is not defined"
          ]
        }
      ]
    },
    {
      "cell_type": "code",
      "metadata": {
        "colab": {
          "base_uri": "https://localhost:8080/"
        },
        "id": "CnkQPp-BVfSU",
        "outputId": "6c3be13c-5859-4c7c-9cca-cfd5127a788e"
      },
      "source": [
        "pip uninstall utils"
      ],
      "execution_count": null,
      "outputs": [
        {
          "output_type": "stream",
          "text": [
            "Uninstalling utils-1.0.1:\n",
            "  Would remove:\n",
            "    /usr/local/lib/python3.7/dist-packages/tests/*\n",
            "    /usr/local/lib/python3.7/dist-packages/utils-1.0.1.dist-info/*\n",
            "    /usr/local/lib/python3.7/dist-packages/utils/*\n",
            "  Would not remove (might be manually added):\n",
            "    /usr/local/lib/python3.7/dist-packages/tests/download_media.py\n",
            "    /usr/local/lib/python3.7/dist-packages/tests/test_AudioClips.py\n",
            "    /usr/local/lib/python3.7/dist-packages/tests/test_ImageSequenceClip.py\n",
            "    /usr/local/lib/python3.7/dist-packages/tests/test_PR.py\n",
            "    /usr/local/lib/python3.7/dist-packages/tests/test_TextClip.py\n",
            "    /usr/local/lib/python3.7/dist-packages/tests/test_VideoClip.py\n",
            "    /usr/local/lib/python3.7/dist-packages/tests/test_VideoFileClip.py\n",
            "    /usr/local/lib/python3.7/dist-packages/tests/test_Videos.py\n",
            "    /usr/local/lib/python3.7/dist-packages/tests/test_classifier/__init__.py\n",
            "    /usr/local/lib/python3.7/dist-packages/tests/test_classifier/conftest.py\n",
            "    /usr/local/lib/python3.7/dist-packages/tests/test_classifier/test_class_prediction_error.py\n",
            "    /usr/local/lib/python3.7/dist-packages/tests/test_classifier/test_classification_report.py\n",
            "    /usr/local/lib/python3.7/dist-packages/tests/test_classifier/test_confusion_matrix.py\n",
            "    /usr/local/lib/python3.7/dist-packages/tests/test_classifier/test_prcurve.py\n",
            "    /usr/local/lib/python3.7/dist-packages/tests/test_classifier/test_rocauc.py\n",
            "    /usr/local/lib/python3.7/dist-packages/tests/test_classifier/test_threshold.py\n",
            "    /usr/local/lib/python3.7/dist-packages/tests/test_cluster/__init__.py\n",
            "    /usr/local/lib/python3.7/dist-packages/tests/test_cluster/test_base.py\n",
            "    /usr/local/lib/python3.7/dist-packages/tests/test_cluster/test_elbow.py\n",
            "    /usr/local/lib/python3.7/dist-packages/tests/test_cluster/test_icdm.py\n",
            "    /usr/local/lib/python3.7/dist-packages/tests/test_cluster/test_silhouette.py\n",
            "    /usr/local/lib/python3.7/dist-packages/tests/test_compositing.py\n",
            "    /usr/local/lib/python3.7/dist-packages/tests/test_examples.py\n",
            "    /usr/local/lib/python3.7/dist-packages/tests/test_features/__init__.py\n",
            "    /usr/local/lib/python3.7/dist-packages/tests/test_features/test_base.py\n",
            "    /usr/local/lib/python3.7/dist-packages/tests/test_features/test_importances.py\n",
            "    /usr/local/lib/python3.7/dist-packages/tests/test_features/test_jointplot.py\n",
            "    /usr/local/lib/python3.7/dist-packages/tests/test_features/test_manifold.py\n",
            "    /usr/local/lib/python3.7/dist-packages/tests/test_features/test_pca.py\n",
            "    /usr/local/lib/python3.7/dist-packages/tests/test_features/test_pcoords.py\n",
            "    /usr/local/lib/python3.7/dist-packages/tests/test_features/test_radviz.py\n",
            "    /usr/local/lib/python3.7/dist-packages/tests/test_features/test_rankd.py\n",
            "    /usr/local/lib/python3.7/dist-packages/tests/test_features/test_rfecv.py\n",
            "    /usr/local/lib/python3.7/dist-packages/tests/test_ffmpeg_reader.py\n",
            "    /usr/local/lib/python3.7/dist-packages/tests/test_fx.py\n",
            "    /usr/local/lib/python3.7/dist-packages/tests/test_helper.py\n",
            "    /usr/local/lib/python3.7/dist-packages/tests/test_issues.py\n",
            "    /usr/local/lib/python3.7/dist-packages/tests/test_misc.py\n",
            "    /usr/local/lib/python3.7/dist-packages/tests/test_model_selection/__init__.py\n",
            "    /usr/local/lib/python3.7/dist-packages/tests/test_model_selection/conftest.py\n",
            "    /usr/local/lib/python3.7/dist-packages/tests/test_model_selection/test_cross_validation.py\n",
            "    /usr/local/lib/python3.7/dist-packages/tests/test_model_selection/test_learning_curve.py\n",
            "    /usr/local/lib/python3.7/dist-packages/tests/test_model_selection/test_validation_curve.py\n",
            "    /usr/local/lib/python3.7/dist-packages/tests/test_regressor/__init__.py\n",
            "    /usr/local/lib/python3.7/dist-packages/tests/test_regressor/test_alphas.py\n",
            "    /usr/local/lib/python3.7/dist-packages/tests/test_regressor/test_residuals.py\n",
            "    /usr/local/lib/python3.7/dist-packages/tests/test_resourcerelease.py\n",
            "    /usr/local/lib/python3.7/dist-packages/tests/test_resourcereleasedemo.py\n",
            "    /usr/local/lib/python3.7/dist-packages/tests/test_style/__init__.py\n",
            "    /usr/local/lib/python3.7/dist-packages/tests/test_style/test_colors.py\n",
            "    /usr/local/lib/python3.7/dist-packages/tests/test_style/test_palettes.py\n",
            "    /usr/local/lib/python3.7/dist-packages/tests/test_style/test_rcmod.py\n",
            "    /usr/local/lib/python3.7/dist-packages/tests/test_target/__init__.py\n",
            "    /usr/local/lib/python3.7/dist-packages/tests/test_target/test_binning.py\n",
            "    /usr/local/lib/python3.7/dist-packages/tests/test_target/test_class_balance.py\n",
            "    /usr/local/lib/python3.7/dist-packages/tests/test_target/test_feature_correlation.py\n",
            "    /usr/local/lib/python3.7/dist-packages/tests/test_text/__init__.py\n",
            "    /usr/local/lib/python3.7/dist-packages/tests/test_text/test_base.py\n",
            "    /usr/local/lib/python3.7/dist-packages/tests/test_text/test_dispersion.py\n",
            "    /usr/local/lib/python3.7/dist-packages/tests/test_text/test_freqdist.py\n",
            "    /usr/local/lib/python3.7/dist-packages/tests/test_text/test_postag.py\n",
            "    /usr/local/lib/python3.7/dist-packages/tests/test_text/test_tsne.py\n",
            "    /usr/local/lib/python3.7/dist-packages/tests/test_tools.py\n",
            "    /usr/local/lib/python3.7/dist-packages/tests/test_utils/__init__.py\n",
            "    /usr/local/lib/python3.7/dist-packages/tests/test_utils/test_decorators.py\n",
            "    /usr/local/lib/python3.7/dist-packages/tests/test_utils/test_helpers.py\n",
            "    /usr/local/lib/python3.7/dist-packages/tests/test_utils/test_nan_warnings.py\n",
            "    /usr/local/lib/python3.7/dist-packages/tests/test_utils/test_timer.py\n",
            "    /usr/local/lib/python3.7/dist-packages/tests/test_utils/test_types.py\n",
            "    /usr/local/lib/python3.7/dist-packages/tests/test_utils/test_wrapper.py\n",
            "    /usr/local/lib/python3.7/dist-packages/tests/test_videotools.py\n",
            "Proceed (y/n)? y\n",
            "  Successfully uninstalled utils-1.0.1\n"
          ],
          "name": "stdout"
        }
      ]
    },
    {
      "cell_type": "code",
      "metadata": {
        "colab": {
          "base_uri": "https://localhost:8080/"
        },
        "id": "y6Nud1xoW11g",
        "outputId": "ceb42a2a-d8b9-4dd3-feba-1c095f1e78ba"
      },
      "source": [
        "pip install onnx"
      ],
      "execution_count": null,
      "outputs": [
        {
          "output_type": "stream",
          "text": [
            "Collecting onnx\n",
            "\u001b[?25l  Downloading https://files.pythonhosted.org/packages/3f/9b/54c950d3256e27f970a83cd0504efb183a24312702deed0179453316dbd0/onnx-1.9.0-cp37-cp37m-manylinux2010_x86_64.whl (12.2MB)\n",
            "\u001b[K     |████████████████████████████████| 12.2MB 4.2MB/s \n",
            "\u001b[?25hRequirement already satisfied: six in /usr/local/lib/python3.7/dist-packages (from onnx) (1.15.0)\n",
            "Requirement already satisfied: protobuf in /usr/local/lib/python3.7/dist-packages (from onnx) (3.12.4)\n",
            "Requirement already satisfied: numpy>=1.16.6 in /usr/local/lib/python3.7/dist-packages (from onnx) (1.19.5)\n",
            "Requirement already satisfied: typing-extensions>=3.6.2.1 in /usr/local/lib/python3.7/dist-packages (from onnx) (3.7.4.3)\n",
            "Requirement already satisfied: setuptools in /usr/local/lib/python3.7/dist-packages (from protobuf->onnx) (54.2.0)\n",
            "Installing collected packages: onnx\n",
            "Successfully installed onnx-1.9.0\n"
          ],
          "name": "stdout"
        }
      ]
    },
    {
      "cell_type": "code",
      "metadata": {
        "colab": {
          "base_uri": "https://localhost:8080/"
        },
        "id": "36DZwulxV1qU",
        "outputId": "34e90307-3f1c-4b17-e817-0da5fef0b981"
      },
      "source": [
        "!python /content/yolov5/models/export.py"
      ],
      "execution_count": null,
      "outputs": [
        {
          "output_type": "stream",
          "text": [
            "Namespace(batch_size=1, img_size=[640, 640], weights='/content/yolov5/best.pt')\n",
            "Fusing layers... \n",
            "Model Summary: 316 layers, 21492876 parameters, 0 gradients\n",
            "\n",
            "Starting TorchScript export with torch 1.8.1+cu101...\n",
            "/usr/local/lib/python3.7/dist-packages/torch/jit/_trace.py:940: TracerWarning: Encountering a list at the output of the tracer might cause the trace to be incorrect, this is only valid if the container structure does not change based on the module's inputs. Consider using a constant container instead (e.g. for `list`, use a `tuple` instead. for `dict`, use a `NamedTuple` instead). If you absolutely need this and know the side effects, pass strict=False to trace() to allow this behavior.\n",
            "  _force_outplace,\n",
            "TorchScript export success, saved as /content/yolov5/best.torchscript.pt\n",
            "\n",
            "Starting ONNX export with onnx 1.9.0...\n",
            "ONNX export success, saved as /content/yolov5/best.onnx\n",
            "CoreML export failure: No module named 'coremltools'\n",
            "\n",
            "Export complete (17.13s). Visualize with https://github.com/lutzroeder/netron.\n"
          ],
          "name": "stdout"
        }
      ]
    },
    {
      "cell_type": "code",
      "metadata": {
        "id": "Av6NrIXcX45p"
      },
      "source": [
        "!cp /content/yolov5/best.onnx /content/drive/MyDrive/20210420YOLOV5ID/"
      ],
      "execution_count": null,
      "outputs": []
    }
  ]
}